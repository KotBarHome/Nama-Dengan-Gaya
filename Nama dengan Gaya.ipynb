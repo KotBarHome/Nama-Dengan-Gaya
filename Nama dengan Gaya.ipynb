{
 "cells": [
  {
   "cell_type": "code",
   "execution_count": 7,
   "id": "745e429e",
   "metadata": {},
   "outputs": [
    {
     "name": "stdout",
     "output_type": "stream",
     "text": [
      "#   #   # # #   # # #   #   #   # # #   # # # \n",
      "#   #   #   #       #   # # #   #   #   #   # \n",
      "# # #   # # #   # # #   #   #   # # #   #   # \n",
      "#   #   #   #   #       #   #   #   #   #   # \n",
      "#   #   #   #   # # #   #   #   #   #   #   # \n"
     ]
    }
   ],
   "source": [
    "for row in range(5):\n",
    "    for col in range(23):\n",
    "        if row == 0 and col in(0,2,4,5,6,8,9,10,12,14,16,17,18,20,21,22):\n",
    "            print(\"#\", end = \" \")\n",
    "        elif row == 1 and col in(0,2,4,6,10,12,13,14,16,18,20,22):\n",
    "            print(\"#\", end = \" \")\n",
    "        elif row == 2 and col in(0,1,2,4,5,6,8,9,10,12,14,16,17,18,20,22):\n",
    "            print(\"#\", end = \" \")\n",
    "        elif row == 3 and col in(0,2,4,6,8,12,14,16,18,20,22):\n",
    "            print(\"#\", end = \" \")\n",
    "        elif row == 4 and col in(0,2,4,6,8,9,10,12,14,16,18,20,22):\n",
    "            print(\"#\", end = \" \")\n",
    "        else:\n",
    "            print(\" \", end = \" \")\n",
    "    print()"
   ]
  },
  {
   "cell_type": "code",
   "execution_count": 3,
   "id": "b465fe1e",
   "metadata": {},
   "outputs": [
    {
     "name": "stdout",
     "output_type": "stream",
     "text": [
      " _   _ _____        ___    ____  ___ \n",
      "| | | |_ _\\ \\      / / \\  |  _ \\|_ _|\n",
      "| |_| || | \\ \\ /\\ / / _ \\ | |_) || | \n",
      "|  _  || |  \\ V  V / ___ \\|  _ < | | \n",
      "|_| |_|___|  \\_/\\_/_/   \\_\\_| \\_\\___|\n",
      "                                     \n",
      "\n"
     ]
    }
   ],
   "source": [
    "import pyfiglet\n",
    "\n",
    "result = pyfiglet.figlet_format(\"HIWARI\")\n",
    "print(result)"
   ]
  },
  {
   "cell_type": "code",
   "execution_count": null,
   "id": "89802656",
   "metadata": {},
   "outputs": [],
   "source": []
  }
 ],
 "metadata": {
  "kernelspec": {
   "display_name": "Python 3 (ipykernel)",
   "language": "python",
   "name": "python3"
  },
  "language_info": {
   "codemirror_mode": {
    "name": "ipython",
    "version": 3
   },
   "file_extension": ".py",
   "mimetype": "text/x-python",
   "name": "python",
   "nbconvert_exporter": "python",
   "pygments_lexer": "ipython3",
   "version": "3.9.7"
  }
 },
 "nbformat": 4,
 "nbformat_minor": 5
}
